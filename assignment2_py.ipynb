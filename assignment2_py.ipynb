{
  "nbformat": 4,
  "nbformat_minor": 0,
  "metadata": {
    "colab": {
      "name": "assignment2.py",
      "provenance": []
    },
    "kernelspec": {
      "name": "python3",
      "display_name": "Python 3"
    }
  },
  "cells": [
    {
      "cell_type": "code",
      "metadata": {
        "id": "7QohfviWKZdd",
        "colab_type": "code",
        "colab": {
          "base_uri": "https://localhost:8080/",
          "height": 34
        },
        "outputId": "13402759-2a43-4c4e-ac48-8f10c2fc92e2"
      },
      "source": [
        "x=20\n",
        "y=16\n",
        "print(x+y)"
      ],
      "execution_count": 1,
      "outputs": [
        {
          "output_type": "stream",
          "text": [
            "36\n"
          ],
          "name": "stdout"
        }
      ]
    },
    {
      "cell_type": "code",
      "metadata": {
        "id": "9mYzJ8V1MWPt",
        "colab_type": "code",
        "colab": {
          "base_uri": "https://localhost:8080/",
          "height": 50
        },
        "outputId": "0bcecc41-c380-4d52-ca0c-551786596769"
      },
      "source": [
        "name=input(\"Enter name:\")\n",
        "print(\"Hello\",name)"
      ],
      "execution_count": 4,
      "outputs": [
        {
          "output_type": "stream",
          "text": [
            "Enter name:Sharanya\n",
            "Hello Sharanya\n"
          ],
          "name": "stdout"
        }
      ]
    },
    {
      "cell_type": "code",
      "metadata": {
        "id": "4Ybf5RcsMsIb",
        "colab_type": "code",
        "colab": {
          "base_uri": "https://localhost:8080/",
          "height": 67
        },
        "outputId": "882c2121-36e9-4122-b7f7-66166e3c46ac"
      },
      "source": [
        "hrs=input(\"Enter Hours:\")\n",
        "rate=input(\"Enter Rate:\")\n",
        "pay=float(hrs)*float(rate)\n",
        "print(\"pay:\",pay)"
      ],
      "execution_count": 6,
      "outputs": [
        {
          "output_type": "stream",
          "text": [
            "Enter Hours:35\n",
            "Enter Rate:2.75\n",
            "pay: 96.25\n"
          ],
          "name": "stdout"
        }
      ]
    },
    {
      "cell_type": "code",
      "metadata": {
        "id": "T5iMxRZsN2RC",
        "colab_type": "code",
        "colab": {
          "base_uri": "https://localhost:8080/",
          "height": 84
        },
        "outputId": "e16e4f3e-5747-44ca-fa64-f970bb276383"
      },
      "source": [
        "width=17\n",
        "height=12.0\n",
        "print(int(width//2))\n",
        "print(float(width/2.0))\n",
        "print(float(width/3))\n",
        "print(int(1+2*5))\n"
      ],
      "execution_count": 9,
      "outputs": [
        {
          "output_type": "stream",
          "text": [
            "8\n",
            "8.5\n",
            "5.666666666666667\n",
            "11\n"
          ],
          "name": "stdout"
        }
      ]
    },
    {
      "cell_type": "code",
      "metadata": {
        "id": "TrnoR2LqS1iN",
        "colab_type": "code",
        "colab": {
          "base_uri": "https://localhost:8080/",
          "height": 50
        },
        "outputId": "3c4bb8c4-5787-4cf9-b2c4-d0794eeabfed"
      },
      "source": [
        "c=int(input(\"Enter the temperature in celsius:\"))\n",
        "print(\"Temperatre in Fahrenheit is:\",(((c*9)/5)+32))"
      ],
      "execution_count": 15,
      "outputs": [
        {
          "output_type": "stream",
          "text": [
            "Enter the temperature in celsius:37\n",
            "Temperatre in Fahrenheit is: 98.6\n"
          ],
          "name": "stdout"
        }
      ]
    }
  ]
}